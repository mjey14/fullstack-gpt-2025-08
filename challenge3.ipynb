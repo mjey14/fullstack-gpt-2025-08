{
 "cells": [
  {
   "cell_type": "code",
   "execution_count": 46,
   "id": "d0054daa",
   "metadata": {},
   "outputs": [],
   "source": [
    "from langchain.chat_models import ChatOpenAI\n",
    "from langchain.prompts import FewShotPromptTemplate, PromptTemplate\n",
    "from langchain.chains import LLMChain\n",
    "from langchain.memory import ConversationSummaryBufferMemory\n",
    "from langchain.schema.runnable import RunnablePassthrough"
   ]
  },
  {
   "cell_type": "code",
   "execution_count": 47,
   "id": "66ac7c45",
   "metadata": {},
   "outputs": [],
   "source": [
    "llm = ChatOpenAI(model=\"gpt-3.5-turbo\", temperature=0.5)\n",
    "\n",
    "memory = ConversationSummaryBufferMemory(\n",
    "    llm=llm,\n",
    "    max_token_limit=120,\n",
    "    return_messages=True,\n",
    ")\n",
    "\n",
    "def load_memory(_):\n",
    "    return memory.load_memory_variables({})[\"history\"]"
   ]
  },
  {
   "cell_type": "code",
   "execution_count": 48,
   "id": "105e0f5d",
   "metadata": {},
   "outputs": [],
   "source": [
    "examples = [\n",
    "    {\n",
    "        \"movie\": \"top gun\",\n",
    "        \"emoji\": \"\"\"🛩️👨‍✈️🔥\"\"\"\n",
    "    },\n",
    "    {\n",
    "        \"movie\": \"godfather\",\n",
    "        \"emoji\": \"\"\"👨‍👨‍👦🔫🍝\"\"\"\n",
    "    }\n",
    "]"
   ]
  },
  {
   "cell_type": "code",
   "execution_count": 49,
   "id": "2fce88b9",
   "metadata": {},
   "outputs": [],
   "source": [
    "example_prompt = PromptTemplate(\n",
    "    input_variables=[\"movie\", \"emoji\"],\n",
    "    template=\"Q: Reply with three emojis that represent the movie {movie}\\nA: {emoji}\"\n",
    ")"
   ]
  },
  {
   "cell_type": "code",
   "execution_count": 50,
   "id": "3a1deccf",
   "metadata": {},
   "outputs": [],
   "source": [
    "suffix = (\n",
    "    \"Conversation so far (may be a summary):\\n{history}\\n\\n\"\n",
    "    \"You are a helpful assistant. If the user input is a question, answer in plain text using the conversation history when relevant.\\n\"\n",
    "    \"If the user input is a movie title or looks like a movie query, reply with exactly three emojis that represent it.\\n\"\n",
    "    \"Never include explanations when replying with emojis.\\n\\n\"\n",
    "    \"User input: {movie}\\n\"\n",
    "    \"Answer:\"\n",
    ")\n",
    "\n",
    "few_shot_prompt = FewShotPromptTemplate(\n",
    "    examples=examples,\n",
    "    example_prompt=example_prompt,\n",
    "    suffix=suffix,\n",
    "    input_variables=[\"movie\", \"history\"]\n",
    ")"
   ]
  },
  {
   "cell_type": "code",
   "execution_count": 51,
   "id": "fccfdf17",
   "metadata": {},
   "outputs": [],
   "source": [
    "chain = (\n",
    "    RunnablePassthrough.assign(history=load_memory)\n",
    "    | few_shot_prompt\n",
    "    | llm\n",
    ")"
   ]
  },
  {
   "cell_type": "code",
   "execution_count": 52,
   "id": "102d5b42",
   "metadata": {},
   "outputs": [],
   "source": [
    "def invoke_chain(movie):\n",
    "    result = chain.invoke({\"movie\": movie})\n",
    "    memory.save_context({\"input\": movie}, {\"output\": result.content})\n",
    "    print(result.content)"
   ]
  },
  {
   "cell_type": "code",
   "execution_count": 53,
   "id": "9745d9b1",
   "metadata": {},
   "outputs": [
    {
     "name": "stdout",
     "output_type": "stream",
     "text": [
      "🧸🚀🤠\n"
     ]
    }
   ],
   "source": [
    "invoke_chain(\"toy story\")"
   ]
  },
  {
   "cell_type": "code",
   "execution_count": 54,
   "id": "0b8134ca",
   "metadata": {},
   "outputs": [
    {
     "name": "stdout",
     "output_type": "stream",
     "text": [
      "🧠🕰️🚪\n"
     ]
    }
   ],
   "source": [
    "invoke_chain(\"inception\")"
   ]
  },
  {
   "cell_type": "code",
   "execution_count": 55,
   "id": "737b00c5",
   "metadata": {},
   "outputs": [
    {
     "name": "stdout",
     "output_type": "stream",
     "text": [
      "toy story\n"
     ]
    }
   ],
   "source": [
    "invoke_chain(\"what was the first movie I asked?\")"
   ]
  },
  {
   "cell_type": "code",
   "execution_count": 56,
   "id": "e58f0a58",
   "metadata": {},
   "outputs": [
    {
     "name": "stdout",
     "output_type": "stream",
     "text": [
      "🚀🌌👨‍🚀\n"
     ]
    }
   ],
   "source": [
    "invoke_chain(\"Which of these (🧸🤠🚀, 🕰️🧠🚪, 🚀🌌👨‍🚀) have you never mentioned before?\")"
   ]
  }
 ],
 "metadata": {
  "kernelspec": {
   "display_name": "env",
   "language": "python",
   "name": "python3"
  },
  "language_info": {
   "codemirror_mode": {
    "name": "ipython",
    "version": 3
   },
   "file_extension": ".py",
   "mimetype": "text/x-python",
   "name": "python",
   "nbconvert_exporter": "python",
   "pygments_lexer": "ipython3",
   "version": "3.11.6"
  }
 },
 "nbformat": 4,
 "nbformat_minor": 5
}
