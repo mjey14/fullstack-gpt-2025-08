{
 "cells": [
  {
   "cell_type": "code",
   "execution_count": 17,
   "id": "faced2e9",
   "metadata": {},
   "outputs": [],
   "source": [
    "from langchain.chat_models import ChatOpenAI\n",
    "from langchain.document_loaders import UnstructuredFileLoader\n",
    "from langchain.text_splitter import CharacterTextSplitter\n",
    "from langchain.embeddings import OpenAIEmbeddings, CacheBackedEmbeddings\n",
    "from langchain.vectorstores import FAISS\n",
    "from langchain.storage import LocalFileStore\n",
    "from langchain.prompts import ChatPromptTemplate\n",
    "from langchain.schema.runnable import RunnablePassthrough\n",
    "from langchain.memory import ConversationBufferMemory"
   ]
  },
  {
   "cell_type": "code",
   "execution_count": 18,
   "id": "20edf496",
   "metadata": {},
   "outputs": [],
   "source": [
    "llm = ChatOpenAI(\n",
    "    temperature=0.1,\n",
    "    model=\"gpt-3.5-turbo\"\n",
    ")\n",
    "\n",
    "cache_dir = LocalFileStore(\"./.cache/\")\n",
    "\n",
    "splitter = CharacterTextSplitter.from_tiktoken_encoder(\n",
    "    separator=\"\\n\",\n",
    "    chunk_size=600,\n",
    "    chunk_overlap=100,\n",
    ")\n",
    "\n",
    "loader = UnstructuredFileLoader(\"./files/document.txt\")\n",
    "docs = loader.load_and_split(text_splitter=splitter)\n",
    "\n",
    "embeddings = OpenAIEmbeddings()\n",
    "cached_embeddings = CacheBackedEmbeddings.from_bytes_store(embeddings, cache_dir)\n",
    "vectorstore = FAISS.from_documents(docs, cached_embeddings)\n",
    "retriever = vectorstore.as_retriever()\n",
    "\n",
    "prompt = ChatPromptTemplate.from_messages([\n",
    "    (\"system\", \"You are a helpful assistant. Use the following context and chat history to answer the user's question. \"\n",
    "               \"If you don't know the answer, say you don't know.\\n\\nContext:\\n{context}\\n\\nChat history:\\n{chat_history}\"),\n",
    "    (\"human\", \"{question}\")\n",
    "])"
   ]
  },
  {
   "cell_type": "code",
   "execution_count": 19,
   "id": "47c5000a",
   "metadata": {},
   "outputs": [],
   "source": [
    "memory = ConversationBufferMemory(return_messages=True, memory_key=\"chat_history\")"
   ]
  },
  {
   "cell_type": "code",
   "execution_count": 20,
   "id": "db6ac721",
   "metadata": {},
   "outputs": [],
   "source": [
    "chain = {\n",
    "    \"context\": retriever,\n",
    "    \"question\": RunnablePassthrough(),\n",
    "    \"chat_history\": lambda x: memory.load_memory_variables({})[\"chat_history\"]\n",
    "} | prompt | llm"
   ]
  },
  {
   "cell_type": "code",
   "execution_count": 21,
   "id": "c6032628",
   "metadata": {},
   "outputs": [],
   "source": [
    "def ask(question: str):\n",
    "    result = chain.invoke(question)\n",
    "    memory.save_context({\"question\": question}, {\"output\": result.content})\n",
    "    return print(result.content)"
   ]
  },
  {
   "cell_type": "code",
   "execution_count": 22,
   "id": "19e4708c",
   "metadata": {},
   "outputs": [
    {
     "name": "stdout",
     "output_type": "stream",
     "text": [
      "In the text, it is mentioned that Jones, Aaronson, and Rutherford were guilty of the crimes they were charged with. However, it is also stated that the protagonist had never seen the photograph that disproved their guilt and that it had never existed. This ambiguity suggests that the guilt of Aaronson and the others may not be as clear-cut as it seems.\n"
     ]
    }
   ],
   "source": [
    "ask(\"Is Aaronson guilty?\")"
   ]
  },
  {
   "cell_type": "code",
   "execution_count": 23,
   "id": "5b6e6c49",
   "metadata": {},
   "outputs": [
    {
     "name": "stdout",
     "output_type": "stream",
     "text": [
      "In the text, Winston traced with his finger in the dust on the table the message \"2+2=5.\"\n"
     ]
    }
   ],
   "source": [
    "ask(\"What message did he write in the table?\")"
   ]
  },
  {
   "cell_type": "code",
   "execution_count": 24,
   "id": "afd6262f",
   "metadata": {},
   "outputs": [
    {
     "name": "stdout",
     "output_type": "stream",
     "text": [
      "Julia is a character in the novel who plays a significant role in Winston's life. She is a woman whom Winston falls in love with and has a secret relationship with. Julia is portrayed as a rebellious and passionate individual who shares Winston's disdain for the Party and their oppressive regime. Their relationship becomes a symbol of resistance against the totalitarian rule of the Party in the novel.\n"
     ]
    }
   ],
   "source": [
    "ask(\"Who is Julia?\")"
   ]
  },
  {
   "cell_type": "code",
   "execution_count": 25,
   "id": "2dba8b9e",
   "metadata": {},
   "outputs": [
    {
     "name": "stdout",
     "output_type": "stream",
     "text": [
      "The first question you asked was, \"Is Aaronson guilty?\"\n"
     ]
    }
   ],
   "source": [
    "ask(\"What was the first question I asked?\")"
   ]
  }
 ],
 "metadata": {
  "kernelspec": {
   "display_name": "env",
   "language": "python",
   "name": "python3"
  },
  "language_info": {
   "codemirror_mode": {
    "name": "ipython",
    "version": 3
   },
   "file_extension": ".py",
   "mimetype": "text/x-python",
   "name": "python",
   "nbconvert_exporter": "python",
   "pygments_lexer": "ipython3",
   "version": "3.11.6"
  }
 },
 "nbformat": 4,
 "nbformat_minor": 5
}
