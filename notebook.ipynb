{
 "cells": [
  {
   "cell_type": "code",
   "execution_count": 12,
   "id": "d0054daa",
   "metadata": {},
   "outputs": [],
   "source": [
    "from langchain.chat_models import ChatOpenAI\n",
    "from langchain.prompts import ChatPromptTemplate\n",
    "from langchain.schema.runnable import RunnableLambda"
   ]
  },
  {
   "cell_type": "code",
   "execution_count": 13,
   "id": "105e0f5d",
   "metadata": {},
   "outputs": [],
   "source": [
    "llm = ChatOpenAI(model=\"gpt-3.5-turbo\", temperature=0.7)"
   ]
  },
  {
   "cell_type": "code",
   "execution_count": 14,
   "id": "2fce88b9",
   "metadata": {},
   "outputs": [],
   "source": [
    "poem_prompt = ChatPromptTemplate.from_template(\n",
    "    \"Write a short poem (2~4 lines) about the programming language: {language}\"\n",
    ")\n",
    "poem_chain = poem_prompt | llm"
   ]
  },
  {
   "cell_type": "code",
   "execution_count": 15,
   "id": "3a1deccf",
   "metadata": {},
   "outputs": [],
   "source": [
    "explanation_prompt = ChatPromptTemplate.from_template(\n",
    "    \"Explain the following short poem in detail:\\n\\n{poem}\"\n",
    ")\n",
    "explanation_chain = explanation_prompt | llm"
   ]
  },
  {
   "cell_type": "code",
   "execution_count": 16,
   "id": "fccfdf17",
   "metadata": {},
   "outputs": [],
   "source": [
    "map_poem_to_input = RunnableLambda(lambda output: {\"poem\": output.content})\n",
    "final_chain = poem_chain | map_poem_to_input | explanation_chain"
   ]
  },
  {
   "cell_type": "code",
   "execution_count": 17,
   "id": "8d8aaeab",
   "metadata": {},
   "outputs": [
    {
     "name": "stdout",
     "output_type": "stream",
     "text": [
      "📘 Language: Flutter\n",
      "\n",
      "📝 Poem:\n",
      "Flutter, a language so fine,\n",
      "Creating apps with design that shines.\n",
      "With widgets and themes, it's a developer's delight,\n",
      "Flutter, making our code take flight.\n",
      "\n",
      "📖 Explanation:\n",
      "This short poem praises the programming language Flutter for its ability to create visually appealing apps with ease. The first line, \"Flutter, a language so fine,\" sets the tone by highlighting the elegance and sophistication of the language. The use of the word \"fine\" suggests a level of quality and precision.\n",
      "\n",
      "The second line, \"Creating apps with design that shines,\" emphasizes Flutter's capability to produce aesthetically pleasing and visually striking designs for mobile applications. The word \"shines\" suggests that the designs created with Flutter are not only attractive but also stand out and catch the eye.\n",
      "\n",
      "The third line, \"With widgets and themes, it's a developer's delight,\" highlights the versatility and flexibility of Flutter in terms of customization. Widgets and themes are key components in Flutter that allow developers to easily build and customize their apps according to their preferences. The phrase \"developer's delight\" implies that Flutter makes the process of app development enjoyable and satisfying for programmers.\n",
      "\n",
      "The final line, \"Flutter, making our code take flight,\" metaphorically suggests that using Flutter allows developers to elevate their coding skills and create innovative and advanced apps. The phrase \"take flight\" conveys a sense of progress and improvement in the coding process, indicating that Flutter empowers developers to reach new heights in their app development projects. Overall, the poem celebrates Flutter as a powerful and effective tool for creating high-quality mobile applications.\n"
     ]
    }
   ],
   "source": [
    "language = \"Flutter\"\n",
    "\n",
    "poem_output = poem_chain.invoke({\"language\": language})\n",
    "poem = poem_output.content\n",
    "\n",
    "explanation_output = explanation_chain.invoke({\"poem\": poem})\n",
    "explanation = explanation_output.content\n",
    "\n",
    "print(f\"📘 Language: {language}\\n\")\n",
    "print(\"📝 Poem:\\n\" + poem)\n",
    "print(\"\\n📖 Explanation:\\n\" + explanation)"
   ]
  }
 ],
 "metadata": {
  "kernelspec": {
   "display_name": "env",
   "language": "python",
   "name": "python3"
  },
  "language_info": {
   "codemirror_mode": {
    "name": "ipython",
    "version": 3
   },
   "file_extension": ".py",
   "mimetype": "text/x-python",
   "name": "python",
   "nbconvert_exporter": "python",
   "pygments_lexer": "ipython3",
   "version": "3.11.6"
  }
 },
 "nbformat": 4,
 "nbformat_minor": 5
}
