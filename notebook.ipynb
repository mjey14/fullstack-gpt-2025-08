{
 "cells": [
  {
   "cell_type": "code",
   "execution_count": 26,
   "id": "d0054daa",
   "metadata": {},
   "outputs": [],
   "source": [
    "from langchain.chat_models import ChatOpenAI\n",
    "from langchain.prompts import FewShotPromptTemplate, PromptTemplate\n",
    "from langchain.chains import LLMChain"
   ]
  },
  {
   "cell_type": "code",
   "execution_count": 27,
   "id": "66ac7c45",
   "metadata": {},
   "outputs": [],
   "source": [
    "llm = ChatOpenAI(model=\"gpt-3.5-turbo\", temperature=0.5)"
   ]
  },
  {
   "cell_type": "code",
   "execution_count": 28,
   "id": "105e0f5d",
   "metadata": {},
   "outputs": [],
   "source": [
    "examples = [\n",
    "    {\n",
    "        \"movie\": \"Inception\",\n",
    "        \"info\": \"\"\"\n",
    "        Movie: Inception\n",
    "        1. Director: Christopher Nolan\n",
    "        2. Main Cast: Leonardo DiCaprio, Joseph Gordon-Levitt, Ellen Page\n",
    "        3. Budget: $160 million\n",
    "        4. Box Office: $836 million\n",
    "        5. Genre: Sci-Fi, Thriller\n",
    "        6. Synopsis: A skilled thief steals secrets from within the subconscious during dreams.\"\"\"\n",
    "    },\n",
    "    {\n",
    "        \"movie\": \"The Matrix\",\n",
    "        \"info\": \"\"\"\n",
    "        Movie: The Matrix\n",
    "        1. Director: The Wachowskis\n",
    "        2. Main Cast: Keanu Reeves, Laurence Fishburne, Carrie-Anne Moss\n",
    "        3. Budget: $63 million\n",
    "        4. Box Office: $466 million\n",
    "        5. Genre: Sci-Fi, Action\n",
    "        6. Synopsis: A hacker discovers reality is a simulation and fights against the controllers.\"\"\"\n",
    "    }\n",
    "]"
   ]
  },
  {
   "cell_type": "code",
   "execution_count": 29,
   "id": "2fce88b9",
   "metadata": {},
   "outputs": [],
   "source": [
    "example_prompt = PromptTemplate(\n",
    "    input_variables=[\"movie\", \"info\"],\n",
    "    template=\"Q: Tell me about the movie {movie}\\nA: {info}\"\n",
    ")"
   ]
  },
  {
   "cell_type": "code",
   "execution_count": 30,
   "id": "3a1deccf",
   "metadata": {},
   "outputs": [],
   "source": [
    "prefix = \"You are a movie expert. Please respond with structured information in the format shown below.\"\n",
    "suffix = \"Q: Tell me about the movie {movie}\\nA:\"\n",
    "\n",
    "few_shot_prompt = FewShotPromptTemplate(\n",
    "    examples=examples,\n",
    "    example_prompt=example_prompt,\n",
    "    prefix=prefix,\n",
    "    suffix=suffix,\n",
    "    input_variables=[\"movie\"]\n",
    ")"
   ]
  },
  {
   "cell_type": "code",
   "execution_count": 31,
   "id": "fccfdf17",
   "metadata": {},
   "outputs": [],
   "source": [
    "movie_chain = LLMChain(\n",
    "    llm=llm,\n",
    "    prompt=few_shot_prompt\n",
    ")"
   ]
  },
  {
   "cell_type": "code",
   "execution_count": 32,
   "id": "8d8aaeab",
   "metadata": {},
   "outputs": [
    {
     "name": "stdout",
     "output_type": "stream",
     "text": [
      "        Movie: Interstellar\n",
      "        1. Director: Christopher Nolan\n",
      "        2. Main Cast: Matthew McConaughey, Anne Hathaway, Jessica Chastain\n",
      "        3. Budget: $165 million\n",
      "        4. Box Office: $677 million\n",
      "        5. Genre: Sci-Fi, Drama\n",
      "        6. Synopsis: A group of astronauts travel through a wormhole in search of a new habitable planet for humanity.\n"
     ]
    }
   ],
   "source": [
    "response = movie_chain.run(\"Interstellar\")\n",
    "print(response)"
   ]
  }
 ],
 "metadata": {
  "kernelspec": {
   "display_name": "env",
   "language": "python",
   "name": "python3"
  },
  "language_info": {
   "codemirror_mode": {
    "name": "ipython",
    "version": 3
   },
   "file_extension": ".py",
   "mimetype": "text/x-python",
   "name": "python",
   "nbconvert_exporter": "python",
   "pygments_lexer": "ipython3",
   "version": "3.11.6"
  }
 },
 "nbformat": 4,
 "nbformat_minor": 5
}
